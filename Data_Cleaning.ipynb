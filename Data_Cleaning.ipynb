{
 "metadata": {
  "language_info": {
   "codemirror_mode": {
    "name": "ipython",
    "version": 3
   },
   "file_extension": ".py",
   "mimetype": "text/x-python",
   "name": "python",
   "nbconvert_exporter": "python",
   "pygments_lexer": "ipython3",
   "version": "3.7.4"
  },
  "orig_nbformat": 4,
  "kernelspec": {
   "name": "python3",
   "display_name": "Python 3.7.4 32-bit"
  },
  "interpreter": {
   "hash": "0573fab6c61a770748bfcdda5a22a6f0994280481be73221145b8e05796edb27"
  }
 },
 "nbformat": 4,
 "nbformat_minor": 2,
 "cells": [
  {
   "source": [
    "# Data Cleaning for Amazon Sales Data Analysis"
   ],
   "cell_type": "markdown",
   "metadata": {}
  },
  {
   "source": [
    "## Importing Libraries"
   ],
   "cell_type": "markdown",
   "metadata": {}
  },
  {
   "cell_type": "code",
   "execution_count": 1,
   "metadata": {},
   "outputs": [],
   "source": [
    "import pandas as pd\n",
    "import numpy as np\n",
    "import matplotlib.pyplot as plt\n",
    "import seaborn as sns\n"
   ]
  },
  {
   "source": [
    "## Reading file and storing it in a dataframe"
   ],
   "cell_type": "markdown",
   "metadata": {}
  },
  {
   "cell_type": "code",
   "execution_count": 4,
   "metadata": {},
   "outputs": [],
   "source": [
    "df=pd.read_excel('C:\\\\Users\\\\KIIT\\\\Desktop\\\\ineuron assignments\\\\Amazon sales data analysis\\\\DATA\\\\SALESDATA.xls')"
   ]
  },
  {
   "source": [
    "## Understanding the dataset"
   ],
   "cell_type": "markdown",
   "metadata": {}
  },
  {
   "cell_type": "code",
   "execution_count": 8,
   "metadata": {},
   "outputs": [
    {
     "output_type": "execute_result",
     "data": {
      "text/plain": [
       "    CustKey    DateKey  Discount Amount Invoice Date  Invoice Number  \\\n",
       "0  10000481 2017-04-30          -237.91   2017-04-30          100012   \n",
       "1  10002220 2017-07-14           368.79   2017-07-14          100233   \n",
       "2  10002220 2017-10-17           109.73   2017-10-17          116165   \n",
       "3  10002489 2017-06-03          -211.75   2017-06-03          100096   \n",
       "4  10004516 2017-05-27         96627.94   2017-05-27          103341   \n",
       "\n",
       "  Item Class Item Number                             Item  Line Number  \\\n",
       "0        NaN         NaN                 Urban Large Eggs         2000   \n",
       "1        P01       20910               Moms Sliced Turkey         1000   \n",
       "2        P01       38076  Cutting Edge Foot-Long Hot Dogs         1000   \n",
       "3        NaN         NaN                         Kiwi Lox         1000   \n",
       "4        P01       60776             High Top Sweet Onion         1000   \n",
       "\n",
       "   List Price  ...  Sales Amount Sales Amount Based on List Price  \\\n",
       "0        0.00  ...        237.91                             0.00   \n",
       "1      824.96  ...        456.17                           824.96   \n",
       "2      548.66  ...        438.93                           548.66   \n",
       "3        0.00  ...        211.75                             0.00   \n",
       "4      408.52  ...      89248.66                        185876.60   \n",
       "\n",
       "   Sales Cost Amount  Sales Margin Amount  Sales Price  Sales Quantity  \\\n",
       "0                0.0               237.91   237.910000               1   \n",
       "1                0.0               456.17   456.170000               1   \n",
       "2                0.0               438.93   438.930000               1   \n",
       "3                0.0               211.75   211.750000               1   \n",
       "4                0.0             89248.66   196.150901             455   \n",
       "\n",
       "   Sales Rep  U/M  Unnamed: 20                            Unnamed: 21  \n",
       "0        184   EA          NaN                  U/M = unit of measure  \n",
       "1        127   EA          NaN                                    NaN  \n",
       "2        127   EA          NaN                              EA = each  \n",
       "3        160   EA          NaN                                    NaN  \n",
       "4        124   SE          NaN  SE = some SI unit like kgs or gallons  \n",
       "\n",
       "[5 rows x 22 columns]"
      ],
      "text/html": "<div>\n<style scoped>\n    .dataframe tbody tr th:only-of-type {\n        vertical-align: middle;\n    }\n\n    .dataframe tbody tr th {\n        vertical-align: top;\n    }\n\n    .dataframe thead th {\n        text-align: right;\n    }\n</style>\n<table border=\"1\" class=\"dataframe\">\n  <thead>\n    <tr style=\"text-align: right;\">\n      <th></th>\n      <th>CustKey</th>\n      <th>DateKey</th>\n      <th>Discount Amount</th>\n      <th>Invoice Date</th>\n      <th>Invoice Number</th>\n      <th>Item Class</th>\n      <th>Item Number</th>\n      <th>Item</th>\n      <th>Line Number</th>\n      <th>List Price</th>\n      <th>...</th>\n      <th>Sales Amount</th>\n      <th>Sales Amount Based on List Price</th>\n      <th>Sales Cost Amount</th>\n      <th>Sales Margin Amount</th>\n      <th>Sales Price</th>\n      <th>Sales Quantity</th>\n      <th>Sales Rep</th>\n      <th>U/M</th>\n      <th>Unnamed: 20</th>\n      <th>Unnamed: 21</th>\n    </tr>\n  </thead>\n  <tbody>\n    <tr>\n      <th>0</th>\n      <td>10000481</td>\n      <td>2017-04-30</td>\n      <td>-237.91</td>\n      <td>2017-04-30</td>\n      <td>100012</td>\n      <td>NaN</td>\n      <td>NaN</td>\n      <td>Urban Large Eggs</td>\n      <td>2000</td>\n      <td>0.00</td>\n      <td>...</td>\n      <td>237.91</td>\n      <td>0.00</td>\n      <td>0.0</td>\n      <td>237.91</td>\n      <td>237.910000</td>\n      <td>1</td>\n      <td>184</td>\n      <td>EA</td>\n      <td>NaN</td>\n      <td>U/M = unit of measure</td>\n    </tr>\n    <tr>\n      <th>1</th>\n      <td>10002220</td>\n      <td>2017-07-14</td>\n      <td>368.79</td>\n      <td>2017-07-14</td>\n      <td>100233</td>\n      <td>P01</td>\n      <td>20910</td>\n      <td>Moms Sliced Turkey</td>\n      <td>1000</td>\n      <td>824.96</td>\n      <td>...</td>\n      <td>456.17</td>\n      <td>824.96</td>\n      <td>0.0</td>\n      <td>456.17</td>\n      <td>456.170000</td>\n      <td>1</td>\n      <td>127</td>\n      <td>EA</td>\n      <td>NaN</td>\n      <td>NaN</td>\n    </tr>\n    <tr>\n      <th>2</th>\n      <td>10002220</td>\n      <td>2017-10-17</td>\n      <td>109.73</td>\n      <td>2017-10-17</td>\n      <td>116165</td>\n      <td>P01</td>\n      <td>38076</td>\n      <td>Cutting Edge Foot-Long Hot Dogs</td>\n      <td>1000</td>\n      <td>548.66</td>\n      <td>...</td>\n      <td>438.93</td>\n      <td>548.66</td>\n      <td>0.0</td>\n      <td>438.93</td>\n      <td>438.930000</td>\n      <td>1</td>\n      <td>127</td>\n      <td>EA</td>\n      <td>NaN</td>\n      <td>EA = each</td>\n    </tr>\n    <tr>\n      <th>3</th>\n      <td>10002489</td>\n      <td>2017-06-03</td>\n      <td>-211.75</td>\n      <td>2017-06-03</td>\n      <td>100096</td>\n      <td>NaN</td>\n      <td>NaN</td>\n      <td>Kiwi Lox</td>\n      <td>1000</td>\n      <td>0.00</td>\n      <td>...</td>\n      <td>211.75</td>\n      <td>0.00</td>\n      <td>0.0</td>\n      <td>211.75</td>\n      <td>211.750000</td>\n      <td>1</td>\n      <td>160</td>\n      <td>EA</td>\n      <td>NaN</td>\n      <td>NaN</td>\n    </tr>\n    <tr>\n      <th>4</th>\n      <td>10004516</td>\n      <td>2017-05-27</td>\n      <td>96627.94</td>\n      <td>2017-05-27</td>\n      <td>103341</td>\n      <td>P01</td>\n      <td>60776</td>\n      <td>High Top Sweet Onion</td>\n      <td>1000</td>\n      <td>408.52</td>\n      <td>...</td>\n      <td>89248.66</td>\n      <td>185876.60</td>\n      <td>0.0</td>\n      <td>89248.66</td>\n      <td>196.150901</td>\n      <td>455</td>\n      <td>124</td>\n      <td>SE</td>\n      <td>NaN</td>\n      <td>SE = some SI unit like kgs or gallons</td>\n    </tr>\n  </tbody>\n</table>\n<p>5 rows × 22 columns</p>\n</div>"
     },
     "metadata": {},
     "execution_count": 8
    }
   ],
   "source": [
    "df.head()\n",
    "\n"
   ]
  },
  {
   "cell_type": "code",
   "execution_count": 9,
   "metadata": {},
   "outputs": [
    {
     "output_type": "stream",
     "name": "stdout",
     "text": [
      "<class 'pandas.core.frame.DataFrame'>\nRangeIndex: 65282 entries, 0 to 65281\nData columns (total 22 columns):\n #   Column                            Non-Null Count  Dtype         \n---  ------                            --------------  -----         \n 0   CustKey                           65282 non-null  int64         \n 1   DateKey                           65282 non-null  datetime64[ns]\n 2   Discount Amount                   65280 non-null  float64       \n 3   Invoice Date                      65282 non-null  datetime64[ns]\n 4   Invoice Number                    65282 non-null  int64         \n 5   Item Class                        56993 non-null  object        \n 6   Item Number                       65241 non-null  object        \n 7   Item                              65282 non-null  object        \n 8   Line Number                       65282 non-null  int64         \n 9   List Price                        65282 non-null  float64       \n 10  Order Number                      65282 non-null  int64         \n 11  Promised Delivery Date            65282 non-null  datetime64[ns]\n 12  Sales Amount                      65282 non-null  float64       \n 13  Sales Amount Based on List Price  65282 non-null  float64       \n 14  Sales Cost Amount                 65282 non-null  float64       \n 15  Sales Margin Amount               65282 non-null  float64       \n 16  Sales Price                       65281 non-null  float64       \n 17  Sales Quantity                    65282 non-null  int64         \n 18  Sales Rep                         65282 non-null  int64         \n 19  U/M                               65282 non-null  object        \n 20  Unnamed: 20                       0 non-null      float64       \n 21  Unnamed: 21                       4 non-null      object        \ndtypes: datetime64[ns](3), float64(8), int64(6), object(5)\nmemory usage: 9.7+ MB\n"
     ]
    }
   ],
   "source": [
    "df.info()"
   ]
  },
  {
   "cell_type": "code",
   "execution_count": 10,
   "metadata": {},
   "outputs": [
    {
     "output_type": "execute_result",
     "data": {
      "text/plain": [
       "(65282, 22)"
      ]
     },
     "metadata": {},
     "execution_count": 10
    }
   ],
   "source": [
    "df.shape"
   ]
  },
  {
   "source": [
    "### Creating table for missing data analysis"
   ],
   "cell_type": "markdown",
   "metadata": {}
  },
  {
   "cell_type": "code",
   "execution_count": 11,
   "metadata": {},
   "outputs": [],
   "source": [
    "\n",
    "def draw_missing_data_table(df):\n",
    "    total = df.isnull().sum().sort_values(ascending=False)\n",
    "    percent = (df.isnull().sum()/df.isnull().count()).sort_values(ascending=False)\n",
    "    missing_data = pd.concat([total, percent], axis=1, keys=['Total', 'Percent'])\n",
    "    return missing_data"
   ]
  },
  {
   "cell_type": "code",
   "execution_count": 12,
   "metadata": {},
   "outputs": [
    {
     "output_type": "execute_result",
     "data": {
      "text/plain": [
       "                                  Total   Percent\n",
       "Unnamed: 20                       65282  1.000000\n",
       "Unnamed: 21                       65278  0.999939\n",
       "Item Class                         8289  0.126972\n",
       "Item Number                          41  0.000628\n",
       "Discount Amount                       2  0.000031\n",
       "Sales Price                           1  0.000015\n",
       "List Price                            0  0.000000\n",
       "DateKey                               0  0.000000\n",
       "Invoice Date                          0  0.000000\n",
       "Invoice Number                        0  0.000000\n",
       "Item                                  0  0.000000\n",
       "Line Number                           0  0.000000\n",
       "Order Number                          0  0.000000\n",
       "Promised Delivery Date                0  0.000000\n",
       "Sales Amount                          0  0.000000\n",
       "Sales Amount Based on List Price      0  0.000000\n",
       "Sales Cost Amount                     0  0.000000\n",
       "Sales Margin Amount                   0  0.000000\n",
       "Sales Quantity                        0  0.000000\n",
       "Sales Rep                             0  0.000000\n",
       "U/M                                   0  0.000000\n",
       "CustKey                               0  0.000000"
      ],
      "text/html": "<div>\n<style scoped>\n    .dataframe tbody tr th:only-of-type {\n        vertical-align: middle;\n    }\n\n    .dataframe tbody tr th {\n        vertical-align: top;\n    }\n\n    .dataframe thead th {\n        text-align: right;\n    }\n</style>\n<table border=\"1\" class=\"dataframe\">\n  <thead>\n    <tr style=\"text-align: right;\">\n      <th></th>\n      <th>Total</th>\n      <th>Percent</th>\n    </tr>\n  </thead>\n  <tbody>\n    <tr>\n      <th>Unnamed: 20</th>\n      <td>65282</td>\n      <td>1.000000</td>\n    </tr>\n    <tr>\n      <th>Unnamed: 21</th>\n      <td>65278</td>\n      <td>0.999939</td>\n    </tr>\n    <tr>\n      <th>Item Class</th>\n      <td>8289</td>\n      <td>0.126972</td>\n    </tr>\n    <tr>\n      <th>Item Number</th>\n      <td>41</td>\n      <td>0.000628</td>\n    </tr>\n    <tr>\n      <th>Discount Amount</th>\n      <td>2</td>\n      <td>0.000031</td>\n    </tr>\n    <tr>\n      <th>Sales Price</th>\n      <td>1</td>\n      <td>0.000015</td>\n    </tr>\n    <tr>\n      <th>List Price</th>\n      <td>0</td>\n      <td>0.000000</td>\n    </tr>\n    <tr>\n      <th>DateKey</th>\n      <td>0</td>\n      <td>0.000000</td>\n    </tr>\n    <tr>\n      <th>Invoice Date</th>\n      <td>0</td>\n      <td>0.000000</td>\n    </tr>\n    <tr>\n      <th>Invoice Number</th>\n      <td>0</td>\n      <td>0.000000</td>\n    </tr>\n    <tr>\n      <th>Item</th>\n      <td>0</td>\n      <td>0.000000</td>\n    </tr>\n    <tr>\n      <th>Line Number</th>\n      <td>0</td>\n      <td>0.000000</td>\n    </tr>\n    <tr>\n      <th>Order Number</th>\n      <td>0</td>\n      <td>0.000000</td>\n    </tr>\n    <tr>\n      <th>Promised Delivery Date</th>\n      <td>0</td>\n      <td>0.000000</td>\n    </tr>\n    <tr>\n      <th>Sales Amount</th>\n      <td>0</td>\n      <td>0.000000</td>\n    </tr>\n    <tr>\n      <th>Sales Amount Based on List Price</th>\n      <td>0</td>\n      <td>0.000000</td>\n    </tr>\n    <tr>\n      <th>Sales Cost Amount</th>\n      <td>0</td>\n      <td>0.000000</td>\n    </tr>\n    <tr>\n      <th>Sales Margin Amount</th>\n      <td>0</td>\n      <td>0.000000</td>\n    </tr>\n    <tr>\n      <th>Sales Quantity</th>\n      <td>0</td>\n      <td>0.000000</td>\n    </tr>\n    <tr>\n      <th>Sales Rep</th>\n      <td>0</td>\n      <td>0.000000</td>\n    </tr>\n    <tr>\n      <th>U/M</th>\n      <td>0</td>\n      <td>0.000000</td>\n    </tr>\n    <tr>\n      <th>CustKey</th>\n      <td>0</td>\n      <td>0.000000</td>\n    </tr>\n  </tbody>\n</table>\n</div>"
     },
     "metadata": {},
     "execution_count": 12
    }
   ],
   "source": [
    "draw_missing_data_table(df)"
   ]
  },
  {
   "source": [
    "### Dropping column 'Unmaed: 20' and 'Unamed: 21' due to almost 100% missing values"
   ],
   "cell_type": "markdown",
   "metadata": {}
  },
  {
   "cell_type": "code",
   "execution_count": 13,
   "metadata": {},
   "outputs": [],
   "source": [
    "df.drop(df.iloc[:, 20:], inplace = True, axis = 1)"
   ]
  },
  {
   "source": [
    "### Analysing 'Item Class' Attribute"
   ],
   "cell_type": "markdown",
   "metadata": {}
  },
  {
   "cell_type": "code",
   "execution_count": 14,
   "metadata": {},
   "outputs": [
    {
     "output_type": "stream",
     "name": "stdout",
     "text": [
      "[nan 'P01' 'PO1']\n"
     ]
    }
   ],
   "source": [
    "print(pd.unique(df['Item Class']))"
   ]
  },
  {
   "source": [
    "#### Dropping Item class attribute since it has only one possible value 'P01'. The Item Class for all the items belong to the food class. "
   ],
   "cell_type": "markdown",
   "metadata": {}
  },
  {
   "cell_type": "code",
   "execution_count": 16,
   "metadata": {},
   "outputs": [],
   "source": [
    "df=df.drop(['Item Class'], axis=1)"
   ]
  },
  {
   "source": [
    "### Order number is not an important attribute to understand the trends of sale\n"
   ],
   "cell_type": "markdown",
   "metadata": {}
  },
  {
   "cell_type": "code",
   "execution_count": 17,
   "metadata": {},
   "outputs": [],
   "source": [
    "\n",
    "df=df.drop(['Order Number'], axis=1)"
   ]
  },
  {
   "source": [
    "### Deleting rows with missing values"
   ],
   "cell_type": "markdown",
   "metadata": {}
  },
  {
   "cell_type": "code",
   "execution_count": 19,
   "metadata": {},
   "outputs": [],
   "source": [
    "df.dropna(subset = [\"Item Number\"], inplace=True)"
   ]
  },
  {
   "cell_type": "code",
   "execution_count": 20,
   "metadata": {},
   "outputs": [],
   "source": [
    "df.dropna(subset = [\"Discount Amount\"], inplace=True)"
   ]
  },
  {
   "cell_type": "code",
   "execution_count": 21,
   "metadata": {},
   "outputs": [],
   "source": [
    "df.dropna(subset = [\"Sales Price\"], inplace=True)"
   ]
  },
  {
   "source": [
    "## Deleting Duplicate rows if any"
   ],
   "cell_type": "markdown",
   "metadata": {}
  },
  {
   "cell_type": "code",
   "execution_count": 18,
   "metadata": {},
   "outputs": [],
   "source": [
    "df.drop_duplicates(keep=False,inplace=True)"
   ]
  },
  {
   "source": [
    "### Checking whether there are any more missing values left"
   ],
   "cell_type": "markdown",
   "metadata": {}
  },
  {
   "cell_type": "code",
   "execution_count": 23,
   "metadata": {},
   "outputs": [
    {
     "output_type": "execute_result",
     "data": {
      "text/plain": [
       "                                  Total  Percent\n",
       "U/M                                   0      0.0\n",
       "Sales Rep                             0      0.0\n",
       "DateKey                               0      0.0\n",
       "Discount Amount                       0      0.0\n",
       "Invoice Date                          0      0.0\n",
       "Invoice Number                        0      0.0\n",
       "Item Number                           0      0.0\n",
       "Item                                  0      0.0\n",
       "Line Number                           0      0.0\n",
       "List Price                            0      0.0\n",
       "Promised Delivery Date                0      0.0\n",
       "Sales Amount                          0      0.0\n",
       "Sales Amount Based on List Price      0      0.0\n",
       "Sales Cost Amount                     0      0.0\n",
       "Sales Margin Amount                   0      0.0\n",
       "Sales Price                           0      0.0\n",
       "Sales Quantity                        0      0.0\n",
       "CustKey                               0      0.0"
      ],
      "text/html": "<div>\n<style scoped>\n    .dataframe tbody tr th:only-of-type {\n        vertical-align: middle;\n    }\n\n    .dataframe tbody tr th {\n        vertical-align: top;\n    }\n\n    .dataframe thead th {\n        text-align: right;\n    }\n</style>\n<table border=\"1\" class=\"dataframe\">\n  <thead>\n    <tr style=\"text-align: right;\">\n      <th></th>\n      <th>Total</th>\n      <th>Percent</th>\n    </tr>\n  </thead>\n  <tbody>\n    <tr>\n      <th>U/M</th>\n      <td>0</td>\n      <td>0.0</td>\n    </tr>\n    <tr>\n      <th>Sales Rep</th>\n      <td>0</td>\n      <td>0.0</td>\n    </tr>\n    <tr>\n      <th>DateKey</th>\n      <td>0</td>\n      <td>0.0</td>\n    </tr>\n    <tr>\n      <th>Discount Amount</th>\n      <td>0</td>\n      <td>0.0</td>\n    </tr>\n    <tr>\n      <th>Invoice Date</th>\n      <td>0</td>\n      <td>0.0</td>\n    </tr>\n    <tr>\n      <th>Invoice Number</th>\n      <td>0</td>\n      <td>0.0</td>\n    </tr>\n    <tr>\n      <th>Item Number</th>\n      <td>0</td>\n      <td>0.0</td>\n    </tr>\n    <tr>\n      <th>Item</th>\n      <td>0</td>\n      <td>0.0</td>\n    </tr>\n    <tr>\n      <th>Line Number</th>\n      <td>0</td>\n      <td>0.0</td>\n    </tr>\n    <tr>\n      <th>List Price</th>\n      <td>0</td>\n      <td>0.0</td>\n    </tr>\n    <tr>\n      <th>Promised Delivery Date</th>\n      <td>0</td>\n      <td>0.0</td>\n    </tr>\n    <tr>\n      <th>Sales Amount</th>\n      <td>0</td>\n      <td>0.0</td>\n    </tr>\n    <tr>\n      <th>Sales Amount Based on List Price</th>\n      <td>0</td>\n      <td>0.0</td>\n    </tr>\n    <tr>\n      <th>Sales Cost Amount</th>\n      <td>0</td>\n      <td>0.0</td>\n    </tr>\n    <tr>\n      <th>Sales Margin Amount</th>\n      <td>0</td>\n      <td>0.0</td>\n    </tr>\n    <tr>\n      <th>Sales Price</th>\n      <td>0</td>\n      <td>0.0</td>\n    </tr>\n    <tr>\n      <th>Sales Quantity</th>\n      <td>0</td>\n      <td>0.0</td>\n    </tr>\n    <tr>\n      <th>CustKey</th>\n      <td>0</td>\n      <td>0.0</td>\n    </tr>\n  </tbody>\n</table>\n</div>"
     },
     "metadata": {},
     "execution_count": 23
    }
   ],
   "source": [
    "draw_missing_data_table(df)"
   ]
  },
  {
   "source": [
    "## Storing the clean dataset in a new file"
   ],
   "cell_type": "markdown",
   "metadata": {}
  },
  {
   "cell_type": "code",
   "execution_count": null,
   "metadata": {},
   "outputs": [],
   "source": [
    "df.to_excel(\"Amazon_Sales_Data_CLEANED.xlsx\")"
   ]
  }
 ]
}